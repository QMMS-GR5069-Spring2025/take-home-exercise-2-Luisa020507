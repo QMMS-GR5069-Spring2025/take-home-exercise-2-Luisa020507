{
 "cells": [
  {
   "cell_type": "code",
   "execution_count": 8,
   "id": "70774c45",
   "metadata": {},
   "outputs": [],
   "source": [
    "import pandas as pd\n",
    "\n",
    "# Load data\n",
    "drivers = pd.read_csv('D:/Desktop/APPLIED DS/AWS_SELECTED_FILES/drivers.csv')\n",
    "pit_stops = pd.read_csv('D:/Desktop/APPLIED DS/AWS_SELECTED_FILES/pit_stops.csv')\n",
    "results = pd.read_csv('D:/Desktop/APPLIED DS/AWS_SELECTED_FILES/results.csv')\n",
    "lap_times = pd.read_csv('D:/Desktop/APPLIED DS/AWS_SELECTED_FILES/lap_times.csv')\n",
    "races = pd.read_csv('D:/Desktop/APPLIED DS/AWS_SELECTED_FILES/races.csv')"
   ]
  },
  {
   "cell_type": "markdown",
   "id": "7c2efbd5",
   "metadata": {},
   "source": [
    "[10 pts] What was the average time each driver spent at the pit stop for each race?"
   ]
  },
  {
   "cell_type": "code",
   "execution_count": 9,
   "id": "92488fa9",
   "metadata": {},
   "outputs": [
    {
     "name": "stdout",
     "output_type": "stream",
     "text": [
      "   raceId  driverId  milliseconds  seconds\n",
      "0     841         1       23213.0   23.213\n",
      "1     841         2       24046.0   24.046\n",
      "2     841         3       23716.0   23.716\n",
      "3     841         4       24055.0   24.055\n",
      "4     841         5       24865.0   24.865\n"
     ]
    }
   ],
   "source": [
    "avg_pit_times = pit_stops.groupby(['raceId', 'driverId'])['milliseconds'].mean().reset_index()\n",
    "avg_pit_times['seconds'] = avg_pit_times['milliseconds'] / 1000\n",
    "print(avg_pit_times.head())"
   ]
  },
  {
   "cell_type": "code",
   "execution_count": 10,
   "id": "16a9755a",
   "metadata": {},
   "outputs": [
    {
     "name": "stdout",
     "output_type": "stream",
     "text": [
      "      raceId  driverId  milliseconds    seconds code     surname\n",
      "10       841        18  20950.333333  20.950333  BUT      Button\n",
      "0        841         1  23213.000000  23.213000  HAM    Hamilton\n",
      "11       841        20  23319.500000  23.319500  VET      Vettel\n",
      "19       841       815  23438.000000  23.438000  PER       Pérez\n",
      "2        841         3  23716.000000  23.716000  ROS     Rosberg\n",
      "...      ...       ...           ...        ...  ...         ...\n",
      "4929    1110       855  24247.000000  24.247000  ZHO        Zhou\n",
      "4925    1110       846  24378.000000  24.378000  NOR      Norris\n",
      "4914    1110       807  24904.500000  24.904500  HUL  Hülkenberg\n",
      "4922    1110       840  25397.000000  25.397000  STR      Stroll\n",
      "4923    1110       842  25664.000000  25.664000  GAS       Gasly\n",
      "\n",
      "[4931 rows x 6 columns]\n"
     ]
    }
   ],
   "source": [
    "avg_with_names = avg_pit_times.merge(drivers[['driverId', 'code', 'surname']], on='driverId')\n",
    "print(avg_with_names.sort_values(['raceId', 'seconds']))"
   ]
  },
  {
   "cell_type": "markdown",
   "id": "82aec89f",
   "metadata": {},
   "source": [
    "[20 pts] Rank the average time spent at the pit stop in order of who won each race"
   ]
  },
  {
   "cell_type": "code",
   "execution_count": 12,
   "id": "b92e1a22",
   "metadata": {},
   "outputs": [
    {
     "name": "stdout",
     "output_type": "stream",
     "text": [
      "     raceId code     surname    seconds\n",
      "0       841  VET      Vettel  23.319500\n",
      "1       842  VET      Vettel  22.408333\n",
      "2       843  HAM    Hamilton  20.659333\n",
      "3       844  VET      Vettel  20.402250\n",
      "4       845  VET      Vettel  20.214500\n",
      "..      ...  ...         ...        ...\n",
      "246    1106  VER  Verstappen  23.777000\n",
      "247    1107  VER  Verstappen  20.175750\n",
      "248    1108  VER  Verstappen  29.056000\n",
      "249    1109  VER  Verstappen  21.543500\n",
      "250    1110  VER  Verstappen  22.949500\n",
      "\n",
      "[251 rows x 4 columns]\n"
     ]
    }
   ],
   "source": [
    "winners = results[results['position'] == '1'][['raceId', 'driverId']]\n",
    "winner_pits = winners.merge(\n",
    "    avg_pit_times,\n",
    "    on=['raceId', 'driverId'],\n",
    "    how='left'  \n",
    ").dropna()\n",
    "\n",
    "ranked_winners = winner_pits.merge(\n",
    "    drivers[['driverId', 'code', 'surname']],\n",
    "    on='driverId'\n",
    ").sort_values(['raceId', 'seconds'])\n",
    "\n",
    "print(ranked_winners[['raceId', 'code', 'surname', 'seconds']])"
   ]
  },
  {
   "cell_type": "markdown",
   "id": "c4ab2d33",
   "metadata": {},
   "source": [
    "[20 pts] Insert the missing code (e.g: ALO for Alonso) for drivers based on the 'drivers' dataset"
   ]
  },
  {
   "cell_type": "code",
   "execution_count": 17,
   "id": "a50c14bb",
   "metadata": {},
   "outputs": [
    {
     "name": "stdout",
     "output_type": "stream",
     "text": [
      "check:\n",
      "     driverId     surname code\n",
      "26         27      Albers  ALB\n",
      "846       848       Albon  ALB\n",
      "823       824     Bianchi  BIA\n",
      "375       376     Bianchi  BIA\n",
      "841       843     Hartley  HAR\n",
      "836       837    Haryanto  HAR\n",
      "824       825   Magnussen  MAG\n",
      "75         76   Magnussen  MAG\n",
      "852       854  Schumacher  MSC\n",
      "29         30  Schumacher  MSC\n"
     ]
    }
   ],
   "source": [
    "def generate_code(row):\n",
    "    if pd.notnull(row['code']):\n",
    "        return row['code']\n",
    "    \n",
    "    surname = row['surname']\n",
    "    \n",
    "    if ' ' in surname:\n",
    "        parts = surname.split()\n",
    "        code = parts[-1][:3].upper()\n",
    "    elif '-' in surname:\n",
    "        code = surname.replace('-', '')[:3].upper()\n",
    "    else:\n",
    "        code = surname[:3].upper()\n",
    "    \n",
    "    conflicts = {\n",
    "        'ROS': 'ROB' if row['surname'] == 'Rosenzweig' else 'ROS',\n",
    "        'VER': 'VES' if row['surname'] == 'Vestappen' else 'VER'\n",
    "    }\n",
    "    return conflicts.get(code, code)\n",
    "\n",
    "drivers['code'] = drivers.apply(generate_code, axis=1)\n",
    "\n",
    "\n",
    "dup_codes = drivers[drivers.duplicated('code', keep=False)].sort_values('code')\n",
    "print(\"check:\")\n",
    "print(dup_codes[['driverId', 'surname', 'code']].head(10))"
   ]
  },
  {
   "cell_type": "markdown",
   "id": "30b65504",
   "metadata": {},
   "source": [
    "[20 pts] Who is the youngest and oldest driver for each race? Create a new column called “Age”"
   ]
  },
  {
   "cell_type": "code",
   "execution_count": 22,
   "id": "34581d14",
   "metadata": {
    "scrolled": false
   },
   "outputs": [
    {
     "name": "stdout",
     "output_type": "stream",
     "text": [
      "    raceId    min_age    max_age  driverId_youngest surname_youngest  \\\n",
      "0        1  20.407940  36.848734                  6         Nakajima   \n",
      "1        2  20.427105  36.867899                 35       Villeneuve   \n",
      "2        3  20.465435  36.906229                 47      Baumgartner   \n",
      "3        4  20.484600  36.925394                 76        Magnussen   \n",
      "4        5  20.522930  36.963723                 97            Papis   \n",
      "5        6  20.561259  37.002053                119          Patrese   \n",
      "6        7  20.599589  37.040383                134        Bertaggia   \n",
      "7        8  20.637919  37.078713                157           Danner   \n",
      "8        9  20.695414  37.136208                175           Tambay   \n",
      "9       10  19.342916  37.174538                194          Salazar   \n",
      "10      11  19.419576  38.576318                215           Guerra   \n",
      "11      12  19.438741  38.595483                239           Lunger   \n",
      "12      13  19.477070  37.308693                257           Lunger   \n",
      "13      14  19.515400  37.347023                274         Takahara   \n",
      "14      15  19.534565  37.366188                297             Palm   \n",
      "15      16  19.572895  37.404517                313         von Opel   \n",
      "16      17  19.611225  37.442847                339       Soler-Roig   \n",
      "17      18  20.703628  36.971937                359     Servoz-Gavin   \n",
      "18      19  20.722793  36.991102                379           Ahrens   \n",
      "19      20  20.761123  37.029432                405          Bucknum   \n",
      "20      21  20.818617  37.086927                427      Trintignant   \n",
      "21      22  20.856947  37.125257                444            Lippi   \n",
      "22      23  20.895277  37.163587                452          Monarch   \n",
      "23      24  20.933607  37.201916                475             Moss   \n",
      "24      25  20.971937  37.240246                499           Bonomi   \n",
      "25      26  21.010267  37.278576                526          Ruttman   \n",
      "26      27  21.048597  37.316906                535         McWithey   \n",
      "27      28  21.086927  37.355236                567           d'Orey   \n",
      "28      29  21.144422  37.412731                573        de Tomaso   \n",
      "29      30  21.182752  37.451061                592            Reece   \n",
      "30      31  21.201916  37.470226                608      Castellotti   \n",
      "31      32  21.240246  37.508556                632            Frère   \n",
      "32      33  21.278576  37.546886                653           Davies   \n",
      "33      34  21.297741  37.566051                676             Armi   \n",
      "34      35  21.336071  37.604381                691             Lang   \n",
      "35      36  21.722108  35.975359                714           Adolff   \n",
      "36      37  21.779603  36.032854                748          Cantoni   \n",
      "37      38  21.798768  36.052019                761           Crespo   \n",
      "38      39  21.875428  36.128679                779            James   \n",
      "39      41  21.952088  36.205339                827         Lotterer   \n",
      "\n",
      "    driverId_oldest  surname_oldest  \n",
      "0                 1        Hamilton  \n",
      "1                24          Liuzzi  \n",
      "2                43        da Matta  \n",
      "3                64           Diniz  \n",
      "4                81      Morbidelli  \n",
      "5               101         Brabham  \n",
      "6               138        Nakajima  \n",
      "7               142          Chaves  \n",
      "8               165        Larrauri  \n",
      "9               189         Gartner  \n",
      "10              216           Stohr  \n",
      "11              233           Stuck  \n",
      "12              240          Ongais  \n",
      "13              265         Edwards  \n",
      "14              286           Brown  \n",
      "15              307          Ganley  \n",
      "16              323         Quester  \n",
      "17              353          Lovely  \n",
      "18              370         Attwood  \n",
      "19              401          Taylor  \n",
      "20              417        Blignaut  \n",
      "21              436  Campbell-Jones  \n",
      "22              466          Walter  \n",
      "23              470           Mayer  \n",
      "24              496      Menditeguy  \n",
      "25              527           Sachs  \n",
      "26              540          Taylor  \n",
      "27              558          Keller  \n",
      "28              584         Kessler  \n",
      "29              598           Unser  \n",
      "30              623            Uria  \n",
      "31              634          Scotti  \n",
      "32              667           Fitch  \n",
      "33              677            Webb  \n",
      "34              707         Stewart  \n",
      "35              726          Connor  \n",
      "36              749           Aston  \n",
      "37              769          Mackey  \n",
      "38              778    Shawe Taylor  \n",
      "39              833           Merhi  \n"
     ]
    }
   ],
   "source": [
    "age_stats = merged.groupby('raceId').agg(\n",
    "    youngest_driver=('Age', lambda x: x.idxmin()),  # Get index of youngest driver\n",
    "    oldest_driver=('Age', lambda x: x.idxmax()),   # Get index of oldest driver\n",
    "    min_age=('Age', 'min'),\n",
    "    max_age=('Age', 'max')\n",
    ")\n",
    "\n",
    "# Add driver info to the stats\n",
    "result = age_stats.reset_index().merge(\n",
    "    drivers[['driverId', 'surname']], \n",
    "    left_on='youngest_driver', right_on='driverId', \n",
    "    suffixes=('_youngest', '_oldest')\n",
    ").merge(\n",
    "    drivers[['driverId', 'surname']], \n",
    "    left_on='oldest_driver', right_on='driverId', \n",
    "    suffixes=('_youngest', '_oldest')\n",
    ")\n",
    "\n",
    "result.drop(['youngest_driver', 'oldest_driver'], axis=1, inplace=True)\n",
    "print(result)"
   ]
  },
  {
   "cell_type": "markdown",
   "id": "b6659eb3",
   "metadata": {},
   "source": [
    "[20 pts] For a given race, which driver has the most wins and losses?"
   ]
  },
  {
   "cell_type": "code",
   "execution_count": 26,
   "id": "064f3ad7",
   "metadata": {},
   "outputs": [
    {
     "name": "stdout",
     "output_type": "stream",
     "text": [
      "{'raceId': 1, 'top_winners': [{'code': 'BUT', 'surname': 'Button', 'count': 1}, {'code': 'BAR', 'surname': 'Barrichello', 'count': 1}, {'code': 'TRU', 'surname': 'Trulli', 'count': 1}], 'top_losers': [{'code': 'VET', 'surname': 'Vettel', 'count': 1}, {'code': 'KUB', 'surname': 'Kubica', 'count': 1}, {'code': 'RAI', 'surname': 'Räikkönen', 'count': 1}]}\n",
      "{'raceId': 2, 'top_winners': [{'code': 'BUT', 'surname': 'Button', 'count': 1}, {'code': 'HEI', 'surname': 'Heidfeld', 'count': 1}, {'code': 'GLO', 'surname': 'Glock', 'count': 1}], 'top_losers': [{'code': 'VET', 'surname': 'Vettel', 'count': 1}, {'code': 'BUE', 'surname': 'Buemi', 'count': 1}, {'code': 'FIS', 'surname': 'Fisichella', 'count': 1}]}\n"
     ]
    }
   ],
   "source": [
    "def analyze_race(race_id):\n",
    "    race_results = results[results['raceId'] == race_id]\n",
    "    \n",
    "    top_drivers = race_results[race_results['position'].isin(['1', '2', '3'])]\n",
    "    win_counts = top_drivers['driverId'].value_counts().head(3)\n",
    "    \n",
    "    dnf_drivers = race_results[~race_results['statusId'].isin([1, 11])]  # 假设1=Finished\n",
    "    loss_counts = dnf_drivers['driverId'].value_counts().head(3)\n",
    "    \n",
    "    win_info = win_counts.reset_index().merge(\n",
    "        drivers[['driverId', 'code', 'surname']], \n",
    "        left_on='driverId', \n",
    "        right_on='driverId'\n",
    "    )\n",
    "    loss_info = loss_counts.reset_index().merge(\n",
    "        drivers[['driverId', 'code', 'surname']], \n",
    "        left_on='driverId', \n",
    "        right_on='driverId'\n",
    "    )\n",
    "    \n",
    "    return {\n",
    "        'raceId': race_id,\n",
    "        'top_winners': win_info[['code', 'surname', 'count']].to_dict('records'),\n",
    "        'top_losers': loss_info[['code', 'surname', 'count']].to_dict('records')\n",
    "    }\n",
    "\n",
    "print(analyze_race(1))\n",
    "print(analyze_race(2))"
   ]
  },
  {
   "cell_type": "markdown",
   "id": "fad1a24e",
   "metadata": {},
   "source": [
    "[10 pts] Continue exploring the data by answering your own question.\n",
    "The Correlation Analysis Between Pit Stops and Final Ranking"
   ]
  },
  {
   "cell_type": "code",
   "execution_count": 29,
   "id": "55ff1431",
   "metadata": {},
   "outputs": [
    {
     "name": "stdout",
     "output_type": "stream",
     "text": [
      "Collecting seaborn\n",
      "  Downloading seaborn-0.13.2-py3-none-any.whl.metadata (5.4 kB)\n",
      "Requirement already satisfied: numpy!=1.24.0,>=1.20 in c:\\users\\ace\\appdata\\local\\packages\\pythonsoftwarefoundation.python.3.10_qbz5n2kfra8p0\\localcache\\local-packages\\python310\\site-packages (from seaborn) (2.2.3)\n",
      "Requirement already satisfied: pandas>=1.2 in c:\\users\\ace\\appdata\\local\\packages\\pythonsoftwarefoundation.python.3.10_qbz5n2kfra8p0\\localcache\\local-packages\\python310\\site-packages (from seaborn) (2.2.3)\n",
      "Requirement already satisfied: matplotlib!=3.6.1,>=3.4 in c:\\users\\ace\\appdata\\local\\packages\\pythonsoftwarefoundation.python.3.10_qbz5n2kfra8p0\\localcache\\local-packages\\python310\\site-packages (from seaborn) (3.10.0)\n",
      "Requirement already satisfied: contourpy>=1.0.1 in c:\\users\\ace\\appdata\\local\\packages\\pythonsoftwarefoundation.python.3.10_qbz5n2kfra8p0\\localcache\\local-packages\\python310\\site-packages (from matplotlib!=3.6.1,>=3.4->seaborn) (1.3.1)\n",
      "Requirement already satisfied: cycler>=0.10 in c:\\users\\ace\\appdata\\local\\packages\\pythonsoftwarefoundation.python.3.10_qbz5n2kfra8p0\\localcache\\local-packages\\python310\\site-packages (from matplotlib!=3.6.1,>=3.4->seaborn) (0.12.1)\n",
      "Requirement already satisfied: fonttools>=4.22.0 in c:\\users\\ace\\appdata\\local\\packages\\pythonsoftwarefoundation.python.3.10_qbz5n2kfra8p0\\localcache\\local-packages\\python310\\site-packages (from matplotlib!=3.6.1,>=3.4->seaborn) (4.56.0)\n",
      "Requirement already satisfied: kiwisolver>=1.3.1 in c:\\users\\ace\\appdata\\local\\packages\\pythonsoftwarefoundation.python.3.10_qbz5n2kfra8p0\\localcache\\local-packages\\python310\\site-packages (from matplotlib!=3.6.1,>=3.4->seaborn) (1.4.8)\n",
      "Requirement already satisfied: packaging>=20.0 in c:\\users\\ace\\appdata\\local\\packages\\pythonsoftwarefoundation.python.3.10_qbz5n2kfra8p0\\localcache\\local-packages\\python310\\site-packages (from matplotlib!=3.6.1,>=3.4->seaborn) (24.2)\n",
      "Requirement already satisfied: pillow>=8 in c:\\users\\ace\\appdata\\local\\packages\\pythonsoftwarefoundation.python.3.10_qbz5n2kfra8p0\\localcache\\local-packages\\python310\\site-packages (from matplotlib!=3.6.1,>=3.4->seaborn) (11.1.0)\n",
      "Requirement already satisfied: pyparsing>=2.3.1 in c:\\users\\ace\\appdata\\local\\packages\\pythonsoftwarefoundation.python.3.10_qbz5n2kfra8p0\\localcache\\local-packages\\python310\\site-packages (from matplotlib!=3.6.1,>=3.4->seaborn) (3.2.1)\n",
      "Requirement already satisfied: python-dateutil>=2.7 in c:\\users\\ace\\appdata\\local\\packages\\pythonsoftwarefoundation.python.3.10_qbz5n2kfra8p0\\localcache\\local-packages\\python310\\site-packages (from matplotlib!=3.6.1,>=3.4->seaborn) (2.9.0.post0)\n",
      "Requirement already satisfied: pytz>=2020.1 in c:\\users\\ace\\appdata\\local\\packages\\pythonsoftwarefoundation.python.3.10_qbz5n2kfra8p0\\localcache\\local-packages\\python310\\site-packages (from pandas>=1.2->seaborn) (2025.1)\n",
      "Requirement already satisfied: tzdata>=2022.7 in c:\\users\\ace\\appdata\\local\\packages\\pythonsoftwarefoundation.python.3.10_qbz5n2kfra8p0\\localcache\\local-packages\\python310\\site-packages (from pandas>=1.2->seaborn) (2025.1)\n",
      "Requirement already satisfied: six>=1.5 in c:\\users\\ace\\appdata\\local\\packages\\pythonsoftwarefoundation.python.3.10_qbz5n2kfra8p0\\localcache\\local-packages\\python310\\site-packages (from python-dateutil>=2.7->matplotlib!=3.6.1,>=3.4->seaborn) (1.17.0)\n",
      "Downloading seaborn-0.13.2-py3-none-any.whl (294 kB)\n",
      "Installing collected packages: seaborn\n",
      "Successfully installed seaborn-0.13.2\n",
      "Note: you may need to restart the kernel to use updated packages.\n"
     ]
    }
   ],
   "source": [
    "pip install seaborn"
   ]
  },
  {
   "cell_type": "code",
   "execution_count": 31,
   "id": "d16b8e77",
   "metadata": {},
   "outputs": [
    {
     "name": "stdout",
     "output_type": "stream",
     "text": [
      "correlation: 0.21\n"
     ]
    }
   ],
   "source": [
    "import matplotlib.pyplot as plt\n",
    "import seaborn as sns\n",
    "\n",
    "pit_count = pit_stops.groupby(['raceId', 'driverId']).size().reset_index(name='pit_count')\n",
    "analysis_df = results.merge(\n",
    "    pit_count,\n",
    "    on=['raceId', 'driverId'],\n",
    "    how='left'\n",
    ").fillna(0)  \n",
    "analysis_df['position'] = pd.to_numeric(analysis_df['position'], errors='coerce')\n",
    "\n",
    "correlation = analysis_df['position'].corr(analysis_df['pit_count'])\n",
    "print(f\"correlation: {correlation:.2f}\")"
   ]
  },
  {
   "cell_type": "code",
   "execution_count": 33,
   "id": "aaf9ddc8",
   "metadata": {},
   "outputs": [
    {
     "data": {
      "image/png": "[encoded data removed]",
      "text/plain": [
       "<Figure size 640x480 with 1 Axes>"
      ]
     },
     "metadata": {},
     "output_type": "display_data"
    }
   ],
   "source": [
    "analysis_df = analysis_df.dropna(subset=['position'])\n",
    "analysis_df['position'] = analysis_df['position'].astype(int)\n",
    "sns.boxplot(\n",
    "    x=analysis_df['position'].astype(int).clip(upper=20), \n",
    "    y=analysis_df['pit_count']\n",
    ")\n",
    "plt.title(\"Distribution of the number of pit stops for different ranked drivers\")\n",
    "plt.show()"
   ]
  },
  {
   "cell_type": "code",
   "execution_count": null,
   "id": "c499f38c",
   "metadata": {},
   "outputs": [],
   "source": []
  },
  {
   "cell_type": "code",
   "execution_count": null,
   "id": "aaff3439",
   "metadata": {},
   "outputs": [],
   "source": []
  }
 ],
 "metadata": {
  "kernelspec": {
   "display_name": "Python 3 (ipykernel)",
   "language": "python",
   "name": "python3"
  },
  "language_info": {
   "codemirror_mode": {
    "name": "ipython",
    "version": 3
   },
   "file_extension": ".py",
   "mimetype": "text/x-python",
   "name": "python",
   "nbconvert_exporter": "python",
   "pygments_lexer": "ipython3",
   "version": "3.10.11"
  }
 },
 "nbformat": 4,
 "nbformat_minor": 5
}
